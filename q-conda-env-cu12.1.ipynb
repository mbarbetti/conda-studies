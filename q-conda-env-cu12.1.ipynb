{
 "cells": [
  {
   "cell_type": "markdown",
   "id": "61cdba29-88bc-4208-952c-0c388cc280db",
   "metadata": {},
   "source": [
    "# Quantum `conda` environment"
   ]
  },
  {
   "cell_type": "markdown",
   "id": "0f8fa78a-f1f4-47f2-9d54-65e3587de8ed",
   "metadata": {},
   "source": [
    "Let's create a new `conda` environment called \"q-env\" and running Python 3.10:\n",
    "\n",
    "```bash\n",
    "conda create -n q-env python=3.10 -y\n",
    "```\n",
    "\n",
    "After the activation\n",
    "\n",
    "```bash\n",
    "conda activate q-env\n",
    "```\n",
    "\n",
    "start by upgrading `pip`, `ipykernel`, and `numpy` via:\n",
    "\n",
    "```bash\n",
    "pip install --upgrade pip ipykernel numpy\n",
    "```"
   ]
  },
  {
   "cell_type": "markdown",
   "id": "09162d4f-6688-4110-ab5e-51e03ac69724",
   "metadata": {},
   "source": [
    "Continue by installing PyTorch 2.3 based on CUDA 12.1:\n",
    "\n",
    "```bash\n",
    "pip install torch==2.3.* --index-url https://download.pytorch.org/whl/cu121\n",
    "```\n",
    "\n",
    "Test that the installation succeeds and that PyTorch correctly accesses the GPU by executing what follows:"
   ]
  },
  {
   "cell_type": "code",
   "execution_count": 1,
   "id": "04a9aa44-bf23-4f2a-92d2-2545eeba417d",
   "metadata": {},
   "outputs": [
    {
     "name": "stdout",
     "output_type": "stream",
     "text": [
      "[DEBUG] PyTorch version 2.3.1+cu121\n",
      "[STATUS] GPU available\n"
     ]
    }
   ],
   "source": [
    "import torch\n",
    "\n",
    "print(f\"[DEBUG] PyTorch version {torch.__version__}\")\n",
    "\n",
    "torch.cuda.init()\n",
    "\n",
    "if torch.cuda.is_available():\n",
    "    device = torch.device(\"cuda:0\")\n",
    "    torch.cuda.set_device(device)\n",
    "    rnd = torch.randn(size=(100, 1)).to(device)\n",
    "    print(\"[STATUS] GPU available\")\n",
    "else:\n",
    "    print(\"[STATUS] GPU not available\")"
   ]
  },
  {
   "cell_type": "markdown",
   "id": "21702d08-7e62-4d03-82d4-e93381053c0c",
   "metadata": {},
   "source": [
    "Continue by installing Pennylane Lightning with GPU-acceleration:\n",
    "\n",
    "```bash\n",
    "pip install pennylane pennylane-lightning-gpu\n",
    "```\n",
    "\n",
    "To install Lightning with NVIDIA CUDA support, the following packages need to be installed via `pip`:\n",
    "\n",
    "```bash\n",
    "pip install nvidia-cusparse-cu12 nvidia-cublas-cu12 nvidia-cuda-runtime-cu12 custatevec_cu12\n",
    "```\n",
    "\n",
    "Test that the installation succeeds and that Pennylane Lightning correctly accesses the GPU by executing what follows:"
   ]
  },
  {
   "cell_type": "code",
   "execution_count": 2,
   "id": "27ddcf2b-81cd-4055-b039-a86a3b0006d0",
   "metadata": {},
   "outputs": [
    {
     "name": "stdout",
     "output_type": "stream",
     "text": [
      "[DEBUG] PennyLane version 0.36.0\n"
     ]
    },
    {
     "data": {
      "text/plain": [
       "tensor(0., requires_grad=True)"
      ]
     },
     "execution_count": 2,
     "metadata": {},
     "output_type": "execute_result"
    }
   ],
   "source": [
    "import pennylane as qml\n",
    "\n",
    "print(f\"[DEBUG] PennyLane version {qml.__version__}\")\n",
    "\n",
    "dev = qml.device(\"lightning.gpu\", wires=2)\n",
    "\n",
    "@qml.qnode(dev)\n",
    "def circuit():\n",
    "  qml.Hadamard(wires=0)\n",
    "  qml.CNOT(wires=[0,1])\n",
    "  return qml.expval(qml.PauliZ(0))\n",
    "\n",
    "circuit()"
   ]
  },
  {
   "cell_type": "markdown",
   "id": "1dfdc1a0-7407-4a04-ad1e-53a040addcfc",
   "metadata": {},
   "source": [
    "Continue by installing Qiskit Aer with GPU-acceleration (based on CUDA 12):\n",
    "\n",
    "```bash\n",
    "pip install qiskit qiskit-aer-gpu\n",
    "```\n",
    "\n",
    "Test that the installation succeeds and that Qiskit Aer correctly accesses the GPU by executing what follows:"
   ]
  },
  {
   "cell_type": "code",
   "execution_count": 3,
   "id": "7b161958-4f63-494b-b491-cfbe94b8b583",
   "metadata": {},
   "outputs": [
    {
     "name": "stdout",
     "output_type": "stream",
     "text": [
      "[DEBUG] Qiskit version 1.1.0\n",
      "[DEBUG] Counts(ideal): {'111': 519, '000': 505}\n"
     ]
    }
   ],
   "source": [
    "import qiskit\n",
    "from qiskit_aer import AerSimulator\n",
    "\n",
    "print(f\"[DEBUG] Qiskit version {qiskit.__version__}\")\n",
    "\n",
    "# Generate 3-qubit GHZ state\n",
    "circ = qiskit.QuantumCircuit(3)\n",
    "circ.h(0)\n",
    "circ.cx(0, 1)\n",
    "circ.cx(1, 2)\n",
    "circ.measure_all()\n",
    "\n",
    "# Construct an ideal simulator\n",
    "aersim = AerSimulator()\n",
    "\n",
    "# Perform an ideal simulation\n",
    "result_ideal = aersim.run(circ).result()\n",
    "counts_ideal = result_ideal.get_counts(0)\n",
    "print('[DEBUG] Counts(ideal):', counts_ideal)\n",
    "# Counts(ideal): {'000': 493, '111': 531}"
   ]
  },
  {
   "cell_type": "markdown",
   "id": "7502c8e3-000c-41e8-ba8c-1b6c87494861",
   "metadata": {},
   "source": [
    "Finally, continue by installing Qibo, QiboJIT, and CuPy via `conda`:\n",
    "\n",
    "```bash\n",
    "conda install qibo qibojit cupy -y\n",
    "```"
   ]
  },
  {
   "cell_type": "code",
   "execution_count": 4,
   "id": "ffb86568-42c7-4155-b0e4-eb8aa183b880",
   "metadata": {},
   "outputs": [
    {
     "name": "stdout",
     "output_type": "stream",
     "text": [
      "[DEBUG] CuPy version 13.1.0\n",
      "[STATUS] GPU available\n"
     ]
    }
   ],
   "source": [
    "import cupy as cp\n",
    "\n",
    "print(f\"[DEBUG] CuPy version {cp.__version__}\")\n",
    "\n",
    "n_cuda_devices = cp.cuda.runtime.getDeviceCount()\n",
    "\n",
    "if n_cuda_devices > 0:\n",
    "    x = cp.array([1, 2, 3])\n",
    "    x.device\n",
    "    print(\"[STATUS] GPU available\")\n",
    "else:\n",
    "    print(\"[STATUS] GPU not available\")"
   ]
  }
 ],
 "metadata": {
  "kernelspec": {
   "display_name": "q-cu12.1",
   "language": "python",
   "name": "q-cu12.1"
  },
  "language_info": {
   "codemirror_mode": {
    "name": "ipython",
    "version": 3
   },
   "file_extension": ".py",
   "mimetype": "text/x-python",
   "name": "python",
   "nbconvert_exporter": "python",
   "pygments_lexer": "ipython3",
   "version": "3.10.14"
  }
 },
 "nbformat": 4,
 "nbformat_minor": 5
}
