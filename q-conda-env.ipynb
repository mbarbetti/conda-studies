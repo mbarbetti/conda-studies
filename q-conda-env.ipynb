{
 "cells": [
  {
   "cell_type": "markdown",
   "id": "61cdba29-88bc-4208-952c-0c388cc280db",
   "metadata": {},
   "source": [
    "# Quantum `conda` environment"
   ]
  },
  {
   "cell_type": "markdown",
   "id": "0f8fa78a-f1f4-47f2-9d54-65e3587de8ed",
   "metadata": {},
   "source": [
    "Let's create a new `conda` environment called \"q-env\" and running Python 3.10:\n",
    "\n",
    "```bash\n",
    "conda create -n q-env python=3.10 -y\n",
    "```\n",
    "\n",
    "After the activation\n",
    "\n",
    "```bash\n",
    "conda activate q-env\n",
    "```\n",
    "\n",
    "start by upgrading `pip` via:\n",
    "\n",
    "```bash\n",
    "pip install --upgrade pip\n",
    "```"
   ]
  },
  {
   "cell_type": "markdown",
   "id": "09162d4f-6688-4110-ab5e-51e03ac69724",
   "metadata": {},
   "source": [
    "Continue by installing TensorFlow 2.14 (with cuDNN 8.7 and CUDA 11.8):\n",
    "\n",
    "```bash\n",
    "pip install tensorflow[and-cuda]==2.14\n",
    "```\n",
    "\n",
    "Test that the installation succeeds and that TensorFlow correctly accesses the GPU by executing what follows:"
   ]
  },
  {
   "cell_type": "code",
   "execution_count": null,
   "id": "788bdb43-eda6-487d-af64-7de8aba8f62f",
   "metadata": {},
   "outputs": [],
   "source": [
    "import tensorflow as tf\n",
    "\n",
    "print(f\"[DEBUG] TensorFlow version {tf.__version__}\")\n",
    "\n",
    "devices = tf.config.list_physical_devices(\"GPU\")\n",
    "if len(devices) > 0:\n",
    "    rnd = tf.random.uniform(shape=(100, 1))\n",
    "    print(\"[STATUS] GPU available\")\n",
    "else:\n",
    "    print(\"[STATUS] GPU not available\") "
   ]
  },
  {
   "cell_type": "markdown",
   "id": "c47d757a-40a1-46b2-bee0-4f1dd07e3ed3",
   "metadata": {},
   "source": [
    "Continue by installing PyTorch 2.1 based on CUDA 11.8:\n",
    "\n",
    "```bash\n",
    "pip install torch==2.1 --index-url https://download.pytorch.org/whl/cu118\n",
    "```\n",
    "\n",
    "Test that the installation succeeds and that PyTorch correctly accesses the GPU by executing what follows:"
   ]
  },
  {
   "cell_type": "code",
   "execution_count": null,
   "id": "de5aa37a-ce53-4764-a7a4-f87ce07734fd",
   "metadata": {},
   "outputs": [],
   "source": [
    "import torch\n",
    "\n",
    "print(f\"[DEBUG] PyTorch version {torch.__version__}\")\n",
    "\n",
    "torch.cuda.init()\n",
    "\n",
    "if torch.cuda.is_available():\n",
    "    device = torch.device(\"cuda:0\")\n",
    "    torch.cuda.set_device(device)\n",
    "    rnd = torch.randn(size=(100, 1)).to(device)\n",
    "    print(\"[STATUS] GPU available\")\n",
    "else:\n",
    "    print(\"[STATUS] GPU not available\")"
   ]
  },
  {
   "cell_type": "markdown",
   "id": "e2c54168-c6d2-418b-ac34-7e08072da1b4",
   "metadata": {},
   "source": [
    "Continue by installing Jax based on CUDA 11.8 (locally preinstalled):\n",
    "\n",
    "```bash\n",
    "pip install --upgrade \"jax[cuda11_pip]\" -f https://storage.googleapis.com/jax-releases/jax_cuda_releases.html\n",
    "```\n",
    "\n",
    "Test that the installation succeeds and that Jax correctly accesses the GPU by executing what follows:"
   ]
  },
  {
   "cell_type": "code",
   "execution_count": null,
   "id": "4f85031c-18fa-4609-994c-78cf01124b02",
   "metadata": {},
   "outputs": [],
   "source": [
    "import jax\n",
    "\n",
    "print(f\"[DEBUG] Jax version {jax.__version__}\")\n",
    "\n",
    "def jax_has_gpu():\n",
    "    try:\n",
    "        _ = jax.device_put(jax.numpy.ones(1), device=jax.devices('gpu')[0])\n",
    "        return True\n",
    "    except:\n",
    "        return False\n",
    "\n",
    "if jax_has_gpu():\n",
    "    print(\"[STATUS] GPU available\")\n",
    "else:\n",
    "    print(\"[STATUS] GPU not available\")"
   ]
  },
  {
   "cell_type": "markdown",
   "id": "21702d08-7e62-4d03-82d4-e93381053c0c",
   "metadata": {},
   "source": [
    "Continue by installing Pennylane Lightning with GPU-acceleration:\n",
    "\n",
    "```bash\n",
    "pip install --upgrade pennylane pennylane-lightning pennylane-lightning-gpu\n",
    "```\n",
    "\n",
    "Once installed, you can try to enable the CUDA 11 variant of the NVIDIA cuQuantum custatevec library via `pip`:\n",
    "\n",
    "```bash\n",
    "pip install nvidia-cusparse-cu11 nvidia-cublas-cu11 nvidia-cuda-runtime-cu11 custatevec-cu11\n",
    "```\n",
    "\n",
    "Test that the installation succeeds and that Pennylane Lightning correctly accesses the GPU by executing what follows:"
   ]
  },
  {
   "cell_type": "code",
   "execution_count": null,
   "id": "27ddcf2b-81cd-4055-b039-a86a3b0006d0",
   "metadata": {},
   "outputs": [],
   "source": [
    "import pennylane as qml\n",
    "\n",
    "print(f\"[DEBUG] PennyLane version {qml.__version__}\")\n",
    "\n",
    "dev = qml.device(\"lightning.gpu\", wires=2)\n",
    "\n",
    "@qml.qnode(dev)\n",
    "def circuit():\n",
    "  qml.Hadamard(wires=0)\n",
    "  qml.CNOT(wires=[0,1])\n",
    "  return qml.expval(qml.PauliZ(0))\n",
    "\n",
    "circuit()"
   ]
  },
  {
   "cell_type": "markdown",
   "id": "1dfdc1a0-7407-4a04-ad1e-53a040addcfc",
   "metadata": {},
   "source": [
    "Continue by installing Qiskit Aer with GPU-acceleration (based on CUDA 11):\n",
    "\n",
    "```bash\n",
    "pip install qiskit qiskit-aer-gpu-cu11\n",
    "```\n",
    "\n",
    "Test that the installation succeeds and that Qiskit Aer correctly accesses the GPU by executing what follows:"
   ]
  },
  {
   "cell_type": "code",
   "execution_count": null,
   "id": "7b161958-4f63-494b-b491-cfbe94b8b583",
   "metadata": {},
   "outputs": [],
   "source": [
    "import qiskit\n",
    "from qiskit_aer import AerSimulator\n",
    "\n",
    "print(f\"[DEBUG] Qiskit version {qiskit.__version__}\")\n",
    "\n",
    "# Generate 3-qubit GHZ state\n",
    "circ = qiskit.QuantumCircuit(3)\n",
    "circ.h(0)\n",
    "circ.cx(0, 1)\n",
    "circ.cx(1, 2)\n",
    "circ.measure_all()\n",
    "\n",
    "# Construct an ideal simulator\n",
    "aersim = AerSimulator()\n",
    "\n",
    "# Perform an ideal simulation\n",
    "result_ideal = aersim.run(circ).result()\n",
    "counts_ideal = result_ideal.get_counts(0)\n",
    "print('[DEBUG] Counts(ideal):', counts_ideal)\n",
    "# Counts(ideal): {'000': 493, '111': 531}"
   ]
  },
  {
   "cell_type": "markdown",
   "id": "7502c8e3-000c-41e8-ba8c-1b6c87494861",
   "metadata": {},
   "source": [
    "Finally, continue by installing Qibo, QiboJIT, and CuPy via `conda`:\n",
    "\n",
    "```bash\n",
    "conda install qibo qibojit cupy\n",
    "```"
   ]
  },
  {
   "cell_type": "code",
   "execution_count": null,
   "id": "ffb86568-42c7-4155-b0e4-eb8aa183b880",
   "metadata": {},
   "outputs": [],
   "source": [
    "import cupy as cp\n",
    "\n",
    "print(f\"[DEBUG] CuPy version {cp.__version__}\")\n",
    "\n",
    "n_cuda_devices = cp.cuda.runtime.getDeviceCount()\n",
    "\n",
    "if n_cuda_devices > 0:\n",
    "    x = cp.array([1, 2, 3])\n",
    "    x.device\n",
    "    print(\"[STATUS] GPU available\")\n",
    "else:\n",
    "    print(\"[STATUS] GPU not available\")"
   ]
  }
 ],
 "metadata": {
  "kernelspec": {
   "display_name": "Python 3 (ipykernel)",
   "language": "python",
   "name": "python3"
  },
  "language_info": {
   "codemirror_mode": {
    "name": "ipython",
    "version": 3
   },
   "file_extension": ".py",
   "mimetype": "text/x-python",
   "name": "python",
   "nbconvert_exporter": "python",
   "pygments_lexer": "ipython3",
   "version": "3.11.6"
  }
 },
 "nbformat": 4,
 "nbformat_minor": 5
}
